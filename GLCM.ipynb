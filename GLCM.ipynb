{
 "cells": [
  {
   "cell_type": "code",
   "execution_count": 13,
   "metadata": {},
   "outputs": [],
   "source": [
    "import os\n",
    "import cv2\n",
    "import numpy as np\n",
    "import csv\n",
    "from skimage.feature import graycomatrix, graycoprops\n"
   ]
  },
  {
   "cell_type": "code",
   "execution_count": 14,
   "metadata": {},
   "outputs": [],
   "source": [
    "def calculate_glcm_features(image, distances=[1], angles=[0, np.pi/4, np.pi/2, 3*np.pi/4]):\n",
    "\n",
    "\n",
    "\n",
    "    # Compute GLCM\n",
    "    glcm = graycomatrix(image, distances=distances, angles=angles, levels=256, symmetric=True, normed=True)\n",
    "\n",
    "\n",
    "\n",
    "    # Calculate GLCM properties\n",
    "    contrast = graycoprops(glcm, 'contrast').flatten()[0]\n",
    "    homogeneity = graycoprops(glcm, 'homogeneity').flatten()[0]\n",
    "    energy = graycoprops(glcm, 'energy').flatten()[0]\n",
    "    correlation = graycoprops(glcm, 'correlation').flatten()[0]\n",
    "\n",
    "    # Calculate entropy\n",
    "    glcm_probabilities = glcm / np.sum(glcm)\n",
    "    entropy = -np.sum(glcm_probabilities * np.log2(glcm_probabilities + (glcm_probabilities == 0)))\n",
    "\n",
    "    return {\n",
    "        'contrast': contrast,\n",
    "        'homogeneity': homogeneity,\n",
    "        'energy': energy,\n",
    "        'correlation': correlation,\n",
    "        'entropy': entropy\n",
    "    }\n"
   ]
  },
  {
   "cell_type": "code",
   "execution_count": 15,
   "metadata": {},
   "outputs": [],
   "source": [
    "def preprocess_image(image_path):\n",
    "    # Read the image\n",
    "    image = cv2.imread(image_path)\n",
    "\n",
    "    # Extract the blue channel\n",
    "    blue_channel = image[:, :, 0]\n",
    "\n",
    "    # Apply thresholding\n",
    "    _, thresholded = cv2.threshold(blue_channel, 90, 255, cv2.THRESH_BINARY_INV)\n",
    "\n",
    "    return thresholded"
   ]
  },
  {
   "cell_type": "code",
   "execution_count": 16,
   "metadata": {},
   "outputs": [],
   "source": [
    "def process_images_in_folder(folder_path, output_csv):\n",
    "    results = []\n",
    "\n",
    "    label = 0 if \"Negative_\" in os.path.basename(folder_path) else 1\n",
    "    \n",
    "    # Iterate over all files in the folder\n",
    "    for filename in os.listdir(folder_path):\n",
    "        if filename.lower().endswith(('.png', '.jpg', '.jpeg', '.bmp', '.tiff')):\n",
    "            file_path = os.path.join(folder_path, filename)\n",
    "\n",
    "            # Preprocess the image\n",
    "            preprocessed_image = preprocess_image(file_path)\n",
    "\n",
    "            # Calculate GLCM features\n",
    "            glcm_features = calculate_glcm_features(preprocessed_image)\n",
    "\n",
    "            # Append the results\n",
    "            results.append({\n",
    "                'filename': filename,\n",
    "                'contrast': glcm_features['contrast'],\n",
    "                'homogeneity': glcm_features['homogeneity'],\n",
    "                'energy': glcm_features['energy'],\n",
    "                'correlation': glcm_features['correlation'],\n",
    "                'entropy': glcm_features['entropy'],\n",
    "                'label': label\n",
    "            })\n",
    "                # Write the results to a CSV file\n",
    "    with open(output_csv, mode='w', newline='') as file:\n",
    "        fieldnames = ['filename', 'contrast', 'homogeneity', 'energy', 'correlation', 'entropy', 'label']\n",
    "        writer = csv.DictWriter(file, fieldnames=fieldnames)\n",
    "        writer.writeheader()\n",
    "        writer.writerows(results)"
   ]
  },
  {
   "cell_type": "code",
   "execution_count": 17,
   "metadata": {},
   "outputs": [],
   "source": [
    "def process_multiple_folders(base_folder):\n",
    "    # Iterate over all subfolders in the base folder\n",
    "    for folder_name in os.listdir(base_folder):\n",
    "        folder_path = os.path.join(base_folder, folder_name)\n",
    "        if os.path.isdir(folder_path):\n",
    "            output_csv = f'GLCM/{folder_name}_texture_features.csv'\n",
    "            process_images_in_folder(folder_path, output_csv)\n",
    "            print(f\"GLCM features have been written to {output_csv}\")"
   ]
  },
  {
   "cell_type": "code",
   "execution_count": 18,
   "metadata": {},
   "outputs": [
    {
     "name": "stdout",
     "output_type": "stream",
     "text": [
      "GLCM features have been written to GLCM/BC-15_texture_features.csv\n",
      "GLCM features have been written to GLCM/Negative_BC-15_texture_features.csv\n",
      "GLCM features have been written to GLCM/Huong_thom-1_texture_features.csv\n",
      "GLCM features have been written to GLCM/Negative_Huong_thom-1_texture_features.csv\n",
      "GLCM features have been written to GLCM/Negative_Nep-87_texture_features.csv\n",
      "GLCM features have been written to GLCM/Nep-87_texture_features.csv\n",
      "GLCM features have been written to GLCM/Negative_Q-5_modify_texture_features.csv\n",
      "GLCM features have been written to GLCM/Q-5_modify_texture_features.csv\n",
      "GLCM features have been written to GLCM/Negative_Thien_uu-8_texture_features.csv\n",
      "GLCM features have been written to GLCM/Thien_uu-8_texture_features.csv\n",
      "GLCM features have been written to GLCM/Negative_Xi-23_texture_features.csv\n",
      "GLCM features have been written to GLCM/Xi-23_texture_features.csv\n"
     ]
    }
   ],
   "source": [
    "if __name__ == \"__main__\":\n",
    "    folder = ['Rice_photos/BC-15', 'Rice_photos/Huongthom', 'Rice_photos/Nep87', 'Rice_photos/Q5', 'Rice_photos/Thien_uu', 'Rice_photos/Xi23']\n",
    "    for i in range(len(folder)):\n",
    "        base_folder = folder[i]\n",
    "        process_multiple_folders(base_folder)\n"
   ]
  }
 ],
 "metadata": {
  "kernelspec": {
   "display_name": "Python 3",
   "language": "python",
   "name": "python3"
  },
  "language_info": {
   "codemirror_mode": {
    "name": "ipython",
    "version": 3
   },
   "file_extension": ".py",
   "mimetype": "text/x-python",
   "name": "python",
   "nbconvert_exporter": "python",
   "pygments_lexer": "ipython3",
   "version": "3.12.1"
  }
 },
 "nbformat": 4,
 "nbformat_minor": 2
}
