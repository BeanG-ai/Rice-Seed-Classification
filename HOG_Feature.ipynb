{
 "cells": [
  {
   "cell_type": "markdown",
   "metadata": {},
   "source": [
    "Feature Extraction bằng phương pháp HOG (Histogram of Gradient)"
   ]
  },
  {
   "cell_type": "code",
   "execution_count": 1,
   "metadata": {},
   "outputs": [],
   "source": [
    "import cv2\n",
    "import numpy as np\n",
    "from skimage.feature import hog\n",
    "from sklearn.svm import LinearSVC\n",
    "from sklearn.metrics import accuracy_score\n",
    "import os\n",
    "import csv\n",
    "def process_images_in_folder(folder_path, output_csv):\n",
    "    results = []\n",
    "\n",
    "    # Determine label based on folder name pattern\n",
    "    label = 0 if \"Negative_\" in os.path.basename(folder_path) else 1\n",
    "\n",
    "    # Iterate over all files in the folder\n",
    "    for filename in os.listdir(folder_path):\n",
    "        if filename.lower().endswith(('.png', '.jpg', '.jpeg', '.bmp', '.tiff')):\n",
    "            file_path = os.path.join(folder_path, filename)\n",
    "\n",
    "            # Extract SIFT features\n",
    "            HOG_Features = extract_hog_features(file_path)\n",
    "\n",
    "            # Append the results\n",
    "            results.append({\n",
    "                'HogFeature': HOG_Features,\n",
    "                'label': label\n",
    "            })\n",
    "\n",
    "    # Write the results to a CSV file\n",
    "    with open(output_csv, mode='w', newline='') as file:\n",
    "        fieldnames = ['HogFeature', 'label']\n",
    "        writer = csv.DictWriter(file, fieldnames=fieldnames)\n",
    "        writer.writeheader()\n",
    "        writer.writerows(results)\n",
    "\n",
    "def process_multiple_folders(base_folder):\n",
    "    # Iterate over all subfolders in the base folder\n",
    "    for folder_name in os.listdir(base_folder):\n",
    "        folder_path = os.path.join(base_folder, folder_name)\n",
    "        if os.path.isdir(folder_path):\n",
    "            output_csv = f'{folder_name}_HOG_features.csv'\n",
    "            process_images_in_folder(folder_path, output_csv)\n",
    "            print(f\"HOG features have been calculated for images in {folder_path} and written to {output_csv}\")\n",
    "\n",
    "# Hàm trích xuất HOG features từ một ảnh\n",
    "def extract_hog_features(image):\n",
    "    # Read the image\n",
    "    gray = cv2.imread(image, cv2.IMREAD_GRAYSCALE)\n",
    "    hog_features, _ = hog(gray,\n",
    "                          orientations=9,\n",
    "                          pixels_per_cell=(8,8),\n",
    "                          cells_per_block=(2, 2),\n",
    "                          block_norm='L2-Hys',\n",
    "                          visualize=True,\n",
    "                          transform_sqrt=True)\n",
    "    return hog_features\n"
   ]
  },
  {
   "cell_type": "code",
   "execution_count": 2,
   "metadata": {},
   "outputs": [
    {
     "name": "stdout",
     "output_type": "stream",
     "text": [
      "SIFT features have been calculated for images in Rice_photos/BC-15\\BC-15 and written to BC-15_HOG_features.csv\n",
      "SIFT features have been calculated for images in Rice_photos/BC-15\\Negative_BC-15 and written to Negative_BC-15_HOG_features.csv\n",
      "SIFT features have been calculated for images in Rice_photos/Huongthom\\Huong_thom-1 and written to Huong_thom-1_HOG_features.csv\n",
      "SIFT features have been calculated for images in Rice_photos/Huongthom\\Negative_Huong_thom-1 and written to Negative_Huong_thom-1_HOG_features.csv\n",
      "SIFT features have been calculated for images in Rice_photos/Nep87\\Negative_Nep-87 and written to Negative_Nep-87_HOG_features.csv\n",
      "SIFT features have been calculated for images in Rice_photos/Nep87\\Nep-87 and written to Nep-87_HOG_features.csv\n",
      "SIFT features have been calculated for images in Rice_photos/Q5\\Negative_Q-5_modify and written to Negative_Q-5_modify_HOG_features.csv\n",
      "SIFT features have been calculated for images in Rice_photos/Q5\\Q-5_modify and written to Q-5_modify_HOG_features.csv\n",
      "SIFT features have been calculated for images in Rice_photos/Thien_uu\\Negative_Thien_uu-8 and written to Negative_Thien_uu-8_HOG_features.csv\n",
      "SIFT features have been calculated for images in Rice_photos/Thien_uu\\Thien_uu-8 and written to Thien_uu-8_HOG_features.csv\n",
      "SIFT features have been calculated for images in Rice_photos/Xi23\\Negative_Xi-23 and written to Negative_Xi-23_HOG_features.csv\n",
      "SIFT features have been calculated for images in Rice_photos/Xi23\\Xi-23 and written to Xi-23_HOG_features.csv\n"
     ]
    }
   ],
   "source": [
    "folder = ['Rice_photos/BC-15', 'Rice_photos/Huongthom', 'Rice_photos/Nep87', 'Rice_photos/Q5', 'Rice_photos/Thien_uu', 'Rice_photos/Xi23']\n",
    "for i in range(len(folder)):\n",
    "    base_folder = folder[i]\n",
    "    process_multiple_folders(base_folder)\n"
   ]
  },
  {
   "cell_type": "code",
   "execution_count": null,
   "metadata": {},
   "outputs": [],
   "source": []
  },
  {
   "cell_type": "code",
   "execution_count": null,
   "metadata": {},
   "outputs": [],
   "source": []
  },
  {
   "cell_type": "code",
   "execution_count": null,
   "metadata": {},
   "outputs": [],
   "source": []
  }
 ],
 "metadata": {
  "kernelspec": {
   "display_name": "Python 3",
   "language": "python",
   "name": "python3"
  },
  "language_info": {
   "codemirror_mode": {
    "name": "ipython",
    "version": 3
   },
   "file_extension": ".py",
   "mimetype": "text/x-python",
   "name": "python",
   "nbconvert_exporter": "python",
   "pygments_lexer": "ipython3",
   "version": "3.11.9"
  }
 },
 "nbformat": 4,
 "nbformat_minor": 2
}
